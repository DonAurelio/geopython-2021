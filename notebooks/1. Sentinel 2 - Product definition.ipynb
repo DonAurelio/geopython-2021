{
 "cells": [
  {
   "cell_type": "markdown",
   "metadata": {},
   "source": [
    "# Sentinel 2 - Product definition\n",
    "\n",
    "The datacube needs to know about the properties of the scenes produced for every satellite we are interested in. As every satellite takes different **measurements** (a.k.a spectral **bands**), the datacube needs to care about organizing data of the same satellite together. For this reason, for every satellite a **Product** must be defined in the datacube. To define a product we require a Product Description File.\n",
    "\n",
    "* **Product Description File:** tells the datacube which data contains every scene, i.e., which bands (measurements) can be found. This metadata will be used by the data cube to create a bunch of database tables to hold relevant information about the scenes that facilitates subsequent queries."
   ]
  },
  {
   "cell_type": "markdown",
   "metadata": {},
   "source": [
    "### Product Definition\n",
    "\n",
    "Check if there are already products defined in the datacube. Of course you have not defined produts yet so the next command will not display information."
   ]
  },
  {
   "cell_type": "code",
   "execution_count": 1,
   "metadata": {},
   "outputs": [],
   "source": [
    "!datacube product list"
   ]
  },
  {
   "cell_type": "markdown",
   "metadata": {},
   "source": [
    "Use the **product definition file** located at `/vagrant/indexed_storage/S2_MSI_L2A/sen2cor_ard.yaml` to define the Sentinel 2 product."
   ]
  },
  {
   "cell_type": "code",
   "execution_count": 15,
   "metadata": {},
   "outputs": [
    {
     "name": "stdout",
     "output_type": "stream",
     "text": [
      "Adding \"s2_sen2cor_ard_granule_EO3\" (this might take a while) DONE\n"
     ]
    }
   ],
   "source": [
    "!datacube product add /vagrant/indexed_storage/S2_MSI_L2A/sen2cor_ard.yaml"
   ]
  },
  {
   "cell_type": "markdown",
   "metadata": {},
   "source": [
    "List the **products** created on the datacube."
   ]
  },
  {
   "cell_type": "code",
   "execution_count": 16,
   "metadata": {},
   "outputs": [
    {
     "name": "stdout",
     "output_type": "stream",
     "text": [
      "\u001b[32ms2_sen2cor_ard_granule_EO3\u001b[0m  Sentinel-L2A MSI ARD - NBAR NBART and Pixel Quality\n"
     ]
    }
   ],
   "source": [
    "!datacube product list"
   ]
  },
  {
   "cell_type": "markdown",
   "metadata": {},
   "source": [
    "Remmeber the `s2_sen2cor_ard_granule_EO3` since this is the identifier of the Sentinel 2 product.This identifier is defined in the product definition file `/vagrant/indexed_storage/S2_MSI_L2A/sen2cor_ard.yaml`."
   ]
  },
  {
   "cell_type": "markdown",
   "metadata": {},
   "source": [
    "### References\n",
    "\n",
    "1. [Open Data Cube Product](https://datacube-core.readthedocs.io/en/latest/architecture/data_model.html#product)"
   ]
  }
 ],
 "metadata": {
  "kernelspec": {
   "display_name": "Python 3",
   "language": "python",
   "name": "python3"
  },
  "language_info": {
   "codemirror_mode": {
    "name": "ipython",
    "version": 3
   },
   "file_extension": ".py",
   "mimetype": "text/x-python",
   "name": "python",
   "nbconvert_exporter": "python",
   "pygments_lexer": "ipython3",
   "version": "3.8.5"
  }
 },
 "nbformat": 4,
 "nbformat_minor": 4
}
