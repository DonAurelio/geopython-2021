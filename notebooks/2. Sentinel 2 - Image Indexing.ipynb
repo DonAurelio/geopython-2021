{
 "cells": [
  {
   "cell_type": "markdown",
   "metadata": {},
   "source": [
    "# Landsat 8 - Scene Indexation\n",
    "\n",
    "Adding satellite images (scenes) into the datacube consists of telling it where we have images in our file system. On this section we will create an index in the datacube to track Landsat 8 Scenes, this index is called a **Product** in the Open Datacube Jargon. The scene we downloaded in the previous section will be indexed into the datacube. Finally, we will retrieve the data of the indexed scene using the datacube API."
   ]
  },
  {
   "cell_type": "markdown",
   "metadata": {},
   "source": [
    "### Product\n",
    "\n",
    "The datacube needs to know about the properties of the scenes produced for every satellite we are interested in. As every satellite takes different **measurements** (a.k.a spectral **bands**), the datacube needs to care about organizing data of the same satellite together. For this reason, for every satellite a **Product** must be defined in the datacube. To define a product we require a Product Description File.\n",
    "\n",
    "* **Product Description File:** tells the datacube which data contains evevry scene, i.e., which bands (measurements) can be found. This metadata will be used by the datacube to create a bunch of database tables to hold relevant information about the scene that facilitates subsequent scene queries."
   ]
  },
  {
   "cell_type": "markdown",
   "metadata": {},
   "source": [
    "### Product Definition\n",
    "\n",
    "Check if there are already products defined in the datacube. Of course you have not defined produts yet so the next command will not display information."
   ]
  },
  {
   "cell_type": "code",
   "execution_count": 1,
   "metadata": {},
   "outputs": [],
   "source": [
    "!datacube product list"
   ]
  },
  {
   "cell_type": "markdown",
   "metadata": {},
   "source": [
    "Use the **product** definition file located at **../products/LS8_OLI_LASRC/description_file.yml** to define the landsat 8 product."
   ]
  },
  {
   "cell_type": "code",
   "execution_count": 2,
   "metadata": {},
   "outputs": [
    {
     "name": "stdout",
     "output_type": "stream",
     "text": [
      "Adding \"ls8_collections_sr_scene\" (this might take a while) DONE\n"
     ]
    }
   ],
   "source": [
    "!datacube product add ../products/LS8_OLI_LASRC/description_file.yml"
   ]
  },
  {
   "cell_type": "markdown",
   "metadata": {},
   "source": [
    "List the **products** created on the datacube."
   ]
  },
  {
   "cell_type": "code",
   "execution_count": 3,
   "metadata": {},
   "outputs": [
    {
     "name": "stdout",
     "output_type": "stream",
     "text": [
      "\u001b[32mls8_collections_sr_scene\u001b[0m  Landsat 8 USGS Collection 1 Higher Level SR scene proessed using LaSRC. 30m UTM based projection.\r\n"
     ]
    }
   ],
   "source": [
    "!datacube product list"
   ]
  },
  {
   "cell_type": "markdown",
   "metadata": {},
   "source": [
    "### Index a scene\n",
    "\n",
    "Satellite images (scenes) are indexed into the datacube so we are able to access such data through the datacube Python API. A scene must be prepared to be indexed in the datacube, so we require a preparation script called **Metadata Generation Script** in the open datacube jargon.\n",
    "\n",
    "* **Metadata Generation Script (.py):** This script is used to generate a metadata file for a given scene. This metadata is used by the datacube to create indexes that easy scene data retrieval."
   ]
  },
  {
   "cell_type": "markdown",
   "metadata": {},
   "source": [
    "To keep our scenes organized, we are going to extract the .tar.gz file we have in **/data** in the **/datasets_storage** folder as shown below. All the scenes you want to index in the datacube will be placed by us in the **/datasets_storage** directory."
   ]
  },
  {
   "cell_type": "markdown",
   "metadata": {},
   "source": [
    "Verify that the scene you downloaded earlier is in the **/datasets_storage/LS8_OLI_LASRC/** directory"
   ]
  },
  {
   "cell_type": "code",
   "execution_count": 5,
   "metadata": {},
   "outputs": [
    {
     "name": "stdout",
     "output_type": "stream",
     "text": [
      "total 1091076\r\n",
      "-rw-r--r-- 1 datacube datacube     11360 Jul  6  2019 LC08_L1TP_005057_20171222_20180103_01_T1.xml\r\n",
      "-rw-r--r-- 1 datacube datacube    117248 Jan  3  2018 LC08_L1TP_005057_20171222_20180103_01_T1_ANG.txt\r\n",
      "-rw-r--r-- 1 datacube datacube      8688 Jul  6  2019 LC08_L1TP_005057_20171222_20180103_01_T1_MTL.txt\r\n",
      "-rw-r--r-- 1 datacube datacube 117583245 Jul  6  2019 LC08_L1TP_005057_20171222_20180103_01_T1_pixel_qa.tif\r\n",
      "-rw-r--r-- 1 datacube datacube 117583223 Jul  6  2019 LC08_L1TP_005057_20171222_20180103_01_T1_radsat_qa.tif\r\n",
      "-rw-r--r-- 1 datacube datacube  58822926 Jul  6  2019 LC08_L1TP_005057_20171222_20180103_01_T1_sr_aerosol.tif\r\n",
      "-rw-r--r-- 1 datacube datacube 117583251 Jul  6  2019 LC08_L1TP_005057_20171222_20180103_01_T1_sr_band1.tif\r\n",
      "-rw-r--r-- 1 datacube datacube 117583251 Jul  6  2019 LC08_L1TP_005057_20171222_20180103_01_T1_sr_band2.tif\r\n",
      "-rw-r--r-- 1 datacube datacube 117583251 Jul  6  2019 LC08_L1TP_005057_20171222_20180103_01_T1_sr_band3.tif\r\n",
      "-rw-r--r-- 1 datacube datacube 117583251 Jul  6  2019 LC08_L1TP_005057_20171222_20180103_01_T1_sr_band4.tif\r\n",
      "-rw-r--r-- 1 datacube datacube 117583251 Jul  6  2019 LC08_L1TP_005057_20171222_20180103_01_T1_sr_band5.tif\r\n",
      "-rw-r--r-- 1 datacube datacube 117583251 Jul  6  2019 LC08_L1TP_005057_20171222_20180103_01_T1_sr_band6.tif\r\n",
      "-rw-r--r-- 1 datacube datacube 117583251 Jul  6  2019 LC08_L1TP_005057_20171222_20180103_01_T1_sr_band7.tif\r\n"
     ]
    }
   ],
   "source": [
    "!ls -l /datasets_storage/LS8_OLI_LASRC/LC080050572017122201T1-SC20190705222048"
   ]
  },
  {
   "cell_type": "markdown",
   "metadata": {},
   "source": [
    "Prepare the scene so that it can be indexed by the datacube. Use the preparation script available at **../products/LS8_OLI_LASRC/mgen_script.py**"
   ]
  },
  {
   "cell_type": "code",
   "execution_count": 7,
   "metadata": {},
   "outputs": [
    {
     "name": "stdout",
     "output_type": "stream",
     "text": [
      "2020-07-27 23:46:14,911 INFO Processing /datasets_storage/LS8_OLI_LASRC/LC080050572017122201T1-SC20190705222048\n",
      "2020-07-27 23:46:23,085 INFO Writing /datasets_storage/LS8_OLI_LASRC/LC080050572017122201T1-SC20190705222048/agdc-metadata.yaml\n"
     ]
    }
   ],
   "source": [
    "!python3 ../products/LS8_OLI_LASRC/mgen_script.py /datasets_storage/LS8_OLI_LASRC/LC080050572017122201T1-SC20190705222048"
   ]
  },
  {
   "cell_type": "markdown",
   "metadata": {},
   "source": [
    "Check if the metadata file **agdc-metadata.yaml** was generated into the scene directory."
   ]
  },
  {
   "cell_type": "code",
   "execution_count": 9,
   "metadata": {},
   "outputs": [
    {
     "name": "stdout",
     "output_type": "stream",
     "text": [
      "total 1091080\r\n",
      "-rw-r--r-- 1 datacube datacube     11360 Jul  6  2019 LC08_L1TP_005057_20171222_20180103_01_T1.xml\r\n",
      "-rw-r--r-- 1 datacube datacube    117248 Jan  3  2018 LC08_L1TP_005057_20171222_20180103_01_T1_ANG.txt\r\n",
      "-rw-r--r-- 1 datacube datacube      8688 Jul  6  2019 LC08_L1TP_005057_20171222_20180103_01_T1_MTL.txt\r\n",
      "-rw-r--r-- 1 datacube datacube 117583245 Jul  6  2019 LC08_L1TP_005057_20171222_20180103_01_T1_pixel_qa.tif\r\n",
      "-rw-r--r-- 1 datacube datacube 117583223 Jul  6  2019 LC08_L1TP_005057_20171222_20180103_01_T1_radsat_qa.tif\r\n",
      "-rw-r--r-- 1 datacube datacube  58822926 Jul  6  2019 LC08_L1TP_005057_20171222_20180103_01_T1_sr_aerosol.tif\r\n",
      "-rw-r--r-- 1 datacube datacube 117583251 Jul  6  2019 LC08_L1TP_005057_20171222_20180103_01_T1_sr_band1.tif\r\n",
      "-rw-r--r-- 1 datacube datacube 117583251 Jul  6  2019 LC08_L1TP_005057_20171222_20180103_01_T1_sr_band2.tif\r\n",
      "-rw-r--r-- 1 datacube datacube 117583251 Jul  6  2019 LC08_L1TP_005057_20171222_20180103_01_T1_sr_band3.tif\r\n",
      "-rw-r--r-- 1 datacube datacube 117583251 Jul  6  2019 LC08_L1TP_005057_20171222_20180103_01_T1_sr_band4.tif\r\n",
      "-rw-r--r-- 1 datacube datacube 117583251 Jul  6  2019 LC08_L1TP_005057_20171222_20180103_01_T1_sr_band5.tif\r\n",
      "-rw-r--r-- 1 datacube datacube 117583251 Jul  6  2019 LC08_L1TP_005057_20171222_20180103_01_T1_sr_band6.tif\r\n",
      "-rw-r--r-- 1 datacube datacube 117583251 Jul  6  2019 LC08_L1TP_005057_20171222_20180103_01_T1_sr_band7.tif\r\n",
      "-rw-r--r-- 1 datacube datacube      3391 Jul 27 23:46 agdc-metadata.yaml\r\n"
     ]
    }
   ],
   "source": [
    "!ls -l /datasets_storage/LS8_OLI_LASRC/LC080050572017122201T1-SC20190705222048"
   ]
  },
  {
   "cell_type": "markdown",
   "metadata": {},
   "source": [
    "Now our dataset is ready for indexation. Use the following command to index your scene (also know as dataset) into the datacube."
   ]
  },
  {
   "cell_type": "code",
   "execution_count": 11,
   "metadata": {},
   "outputs": [],
   "source": [
    "!datacube dataset add /datasets_storage/LS8_OLI_LASRC/LC080050572017122201T1-SC20190705222048"
   ]
  },
  {
   "cell_type": "markdown",
   "metadata": {},
   "source": [
    "Check the new data have been indexed."
   ]
  },
  {
   "cell_type": "code",
   "execution_count": 12,
   "metadata": {},
   "outputs": [
    {
     "name": "stdout",
     "output_type": "stream",
     "text": [
      "id: c076a33a-7b4c-474e-92b2-ea6b3c6fc964\r\n",
      "product: ls8_collections_sr_scene\r\n",
      "status: active\r\n",
      "locations:\r\n",
      "- file:///datasets_storage/LS8_OLI_LASRC/LC080050572017122201T1-SC20190705222048/agdc-metadata.yaml\r\n",
      "fields:\r\n",
      "    creation_time: 2017-12-22 00:00:00\r\n",
      "    format: GeoTiff\r\n",
      "    instrument: OLI_TIRS\r\n",
      "    label: null\r\n",
      "    lat: {begin: 3.282245682956571, end: 5.387626094377365}\r\n",
      "    lon: {begin: -70.87547257296065, end: -68.82294825857863}\r\n",
      "    platform: LANDSAT_8\r\n",
      "    product_type: LaSRC\r\n",
      "    time: {begin: '2017-12-22T14:54:12', end: '2017-12-22T14:54:36'}\r\n"
     ]
    }
   ],
   "source": [
    "!datacube dataset search"
   ]
  },
  {
   "cell_type": "code",
   "execution_count": 13,
   "metadata": {},
   "outputs": [
    {
     "name": "stdout",
     "output_type": "stream",
     "text": [
      "CPU times: user 542 ms, sys: 186 ms, total: 728 ms\n",
      "Wall time: 3.45 s\n"
     ]
    },
    {
     "data": {
      "text/html": [
       "<div><svg style=\"position: absolute; width: 0; height: 0; overflow: hidden\">\n",
       "<defs>\n",
       "<symbol id=\"icon-database\" viewBox=\"0 0 32 32\">\n",
       "<path d=\"M16 0c-8.837 0-16 2.239-16 5v4c0 2.761 7.163 5 16 5s16-2.239 16-5v-4c0-2.761-7.163-5-16-5z\"></path>\n",
       "<path d=\"M16 17c-8.837 0-16-2.239-16-5v6c0 2.761 7.163 5 16 5s16-2.239 16-5v-6c0 2.761-7.163 5-16 5z\"></path>\n",
       "<path d=\"M16 26c-8.837 0-16-2.239-16-5v6c0 2.761 7.163 5 16 5s16-2.239 16-5v-6c0 2.761-7.163 5-16 5z\"></path>\n",
       "</symbol>\n",
       "<symbol id=\"icon-file-text2\" viewBox=\"0 0 32 32\">\n",
       "<path d=\"M28.681 7.159c-0.694-0.947-1.662-2.053-2.724-3.116s-2.169-2.030-3.116-2.724c-1.612-1.182-2.393-1.319-2.841-1.319h-15.5c-1.378 0-2.5 1.121-2.5 2.5v27c0 1.378 1.122 2.5 2.5 2.5h23c1.378 0 2.5-1.122 2.5-2.5v-19.5c0-0.448-0.137-1.23-1.319-2.841zM24.543 5.457c0.959 0.959 1.712 1.825 2.268 2.543h-4.811v-4.811c0.718 0.556 1.584 1.309 2.543 2.268zM28 29.5c0 0.271-0.229 0.5-0.5 0.5h-23c-0.271 0-0.5-0.229-0.5-0.5v-27c0-0.271 0.229-0.5 0.5-0.5 0 0 15.499-0 15.5 0v7c0 0.552 0.448 1 1 1h7v19.5z\"></path>\n",
       "<path d=\"M23 26h-14c-0.552 0-1-0.448-1-1s0.448-1 1-1h14c0.552 0 1 0.448 1 1s-0.448 1-1 1z\"></path>\n",
       "<path d=\"M23 22h-14c-0.552 0-1-0.448-1-1s0.448-1 1-1h14c0.552 0 1 0.448 1 1s-0.448 1-1 1z\"></path>\n",
       "<path d=\"M23 18h-14c-0.552 0-1-0.448-1-1s0.448-1 1-1h14c0.552 0 1 0.448 1 1s-0.448 1-1 1z\"></path>\n",
       "</symbol>\n",
       "</defs>\n",
       "</svg>\n",
       "<style>/* CSS stylesheet for displaying xarray objects in jupyterlab.\n",
       " *\n",
       " */\n",
       "\n",
       ":root {\n",
       "  --xr-font-color0: var(--jp-content-font-color0, rgba(0, 0, 0, 1));\n",
       "  --xr-font-color2: var(--jp-content-font-color2, rgba(0, 0, 0, 0.54));\n",
       "  --xr-font-color3: var(--jp-content-font-color3, rgba(0, 0, 0, 0.38));\n",
       "  --xr-border-color: var(--jp-border-color2, #e0e0e0);\n",
       "  --xr-disabled-color: var(--jp-layout-color3, #bdbdbd);\n",
       "  --xr-background-color: var(--jp-layout-color0, white);\n",
       "  --xr-background-color-row-even: var(--jp-layout-color1, white);\n",
       "  --xr-background-color-row-odd: var(--jp-layout-color2, #eeeeee);\n",
       "}\n",
       "\n",
       "html[theme=dark],\n",
       "body.vscode-dark {\n",
       "  --xr-font-color0: rgba(255, 255, 255, 1);\n",
       "  --xr-font-color2: rgba(255, 255, 255, 0.54);\n",
       "  --xr-font-color3: rgba(255, 255, 255, 0.38);\n",
       "  --xr-border-color: #1F1F1F;\n",
       "  --xr-disabled-color: #515151;\n",
       "  --xr-background-color: #111111;\n",
       "  --xr-background-color-row-even: #111111;\n",
       "  --xr-background-color-row-odd: #313131;\n",
       "}\n",
       "\n",
       ".xr-wrap {\n",
       "  display: block;\n",
       "  min-width: 300px;\n",
       "  max-width: 700px;\n",
       "}\n",
       "\n",
       ".xr-text-repr-fallback {\n",
       "  /* fallback to plain text repr when CSS is not injected (untrusted notebook) */\n",
       "  display: none;\n",
       "}\n",
       "\n",
       ".xr-header {\n",
       "  padding-top: 6px;\n",
       "  padding-bottom: 6px;\n",
       "  margin-bottom: 4px;\n",
       "  border-bottom: solid 1px var(--xr-border-color);\n",
       "}\n",
       "\n",
       ".xr-header > div,\n",
       ".xr-header > ul {\n",
       "  display: inline;\n",
       "  margin-top: 0;\n",
       "  margin-bottom: 0;\n",
       "}\n",
       "\n",
       ".xr-obj-type,\n",
       ".xr-array-name {\n",
       "  margin-left: 2px;\n",
       "  margin-right: 10px;\n",
       "}\n",
       "\n",
       ".xr-obj-type {\n",
       "  color: var(--xr-font-color2);\n",
       "}\n",
       "\n",
       ".xr-sections {\n",
       "  padding-left: 0 !important;\n",
       "  display: grid;\n",
       "  grid-template-columns: 150px auto auto 1fr 20px 20px;\n",
       "}\n",
       "\n",
       ".xr-section-item {\n",
       "  display: contents;\n",
       "}\n",
       "\n",
       ".xr-section-item input {\n",
       "  display: none;\n",
       "}\n",
       "\n",
       ".xr-section-item input + label {\n",
       "  color: var(--xr-disabled-color);\n",
       "}\n",
       "\n",
       ".xr-section-item input:enabled + label {\n",
       "  cursor: pointer;\n",
       "  color: var(--xr-font-color2);\n",
       "}\n",
       "\n",
       ".xr-section-item input:enabled + label:hover {\n",
       "  color: var(--xr-font-color0);\n",
       "}\n",
       "\n",
       ".xr-section-summary {\n",
       "  grid-column: 1;\n",
       "  color: var(--xr-font-color2);\n",
       "  font-weight: 500;\n",
       "}\n",
       "\n",
       ".xr-section-summary > span {\n",
       "  display: inline-block;\n",
       "  padding-left: 0.5em;\n",
       "}\n",
       "\n",
       ".xr-section-summary-in:disabled + label {\n",
       "  color: var(--xr-font-color2);\n",
       "}\n",
       "\n",
       ".xr-section-summary-in + label:before {\n",
       "  display: inline-block;\n",
       "  content: '►';\n",
       "  font-size: 11px;\n",
       "  width: 15px;\n",
       "  text-align: center;\n",
       "}\n",
       "\n",
       ".xr-section-summary-in:disabled + label:before {\n",
       "  color: var(--xr-disabled-color);\n",
       "}\n",
       "\n",
       ".xr-section-summary-in:checked + label:before {\n",
       "  content: '▼';\n",
       "}\n",
       "\n",
       ".xr-section-summary-in:checked + label > span {\n",
       "  display: none;\n",
       "}\n",
       "\n",
       ".xr-section-summary,\n",
       ".xr-section-inline-details {\n",
       "  padding-top: 4px;\n",
       "  padding-bottom: 4px;\n",
       "}\n",
       "\n",
       ".xr-section-inline-details {\n",
       "  grid-column: 2 / -1;\n",
       "}\n",
       "\n",
       ".xr-section-details {\n",
       "  display: none;\n",
       "  grid-column: 1 / -1;\n",
       "  margin-bottom: 5px;\n",
       "}\n",
       "\n",
       ".xr-section-summary-in:checked ~ .xr-section-details {\n",
       "  display: contents;\n",
       "}\n",
       "\n",
       ".xr-array-wrap {\n",
       "  grid-column: 1 / -1;\n",
       "  display: grid;\n",
       "  grid-template-columns: 20px auto;\n",
       "}\n",
       "\n",
       ".xr-array-wrap > label {\n",
       "  grid-column: 1;\n",
       "  vertical-align: top;\n",
       "}\n",
       "\n",
       ".xr-preview {\n",
       "  color: var(--xr-font-color3);\n",
       "}\n",
       "\n",
       ".xr-array-preview,\n",
       ".xr-array-data {\n",
       "  padding: 0 5px !important;\n",
       "  grid-column: 2;\n",
       "}\n",
       "\n",
       ".xr-array-data,\n",
       ".xr-array-in:checked ~ .xr-array-preview {\n",
       "  display: none;\n",
       "}\n",
       "\n",
       ".xr-array-in:checked ~ .xr-array-data,\n",
       ".xr-array-preview {\n",
       "  display: inline-block;\n",
       "}\n",
       "\n",
       ".xr-dim-list {\n",
       "  display: inline-block !important;\n",
       "  list-style: none;\n",
       "  padding: 0 !important;\n",
       "  margin: 0;\n",
       "}\n",
       "\n",
       ".xr-dim-list li {\n",
       "  display: inline-block;\n",
       "  padding: 0;\n",
       "  margin: 0;\n",
       "}\n",
       "\n",
       ".xr-dim-list:before {\n",
       "  content: '(';\n",
       "}\n",
       "\n",
       ".xr-dim-list:after {\n",
       "  content: ')';\n",
       "}\n",
       "\n",
       ".xr-dim-list li:not(:last-child):after {\n",
       "  content: ',';\n",
       "  padding-right: 5px;\n",
       "}\n",
       "\n",
       ".xr-has-index {\n",
       "  font-weight: bold;\n",
       "}\n",
       "\n",
       ".xr-var-list,\n",
       ".xr-var-item {\n",
       "  display: contents;\n",
       "}\n",
       "\n",
       ".xr-var-item > div,\n",
       ".xr-var-item label,\n",
       ".xr-var-item > .xr-var-name span {\n",
       "  background-color: var(--xr-background-color-row-even);\n",
       "  margin-bottom: 0;\n",
       "}\n",
       "\n",
       ".xr-var-item > .xr-var-name:hover span {\n",
       "  padding-right: 5px;\n",
       "}\n",
       "\n",
       ".xr-var-list > li:nth-child(odd) > div,\n",
       ".xr-var-list > li:nth-child(odd) > label,\n",
       ".xr-var-list > li:nth-child(odd) > .xr-var-name span {\n",
       "  background-color: var(--xr-background-color-row-odd);\n",
       "}\n",
       "\n",
       ".xr-var-name {\n",
       "  grid-column: 1;\n",
       "}\n",
       "\n",
       ".xr-var-dims {\n",
       "  grid-column: 2;\n",
       "}\n",
       "\n",
       ".xr-var-dtype {\n",
       "  grid-column: 3;\n",
       "  text-align: right;\n",
       "  color: var(--xr-font-color2);\n",
       "}\n",
       "\n",
       ".xr-var-preview {\n",
       "  grid-column: 4;\n",
       "}\n",
       "\n",
       ".xr-var-name,\n",
       ".xr-var-dims,\n",
       ".xr-var-dtype,\n",
       ".xr-preview,\n",
       ".xr-attrs dt {\n",
       "  white-space: nowrap;\n",
       "  overflow: hidden;\n",
       "  text-overflow: ellipsis;\n",
       "  padding-right: 10px;\n",
       "}\n",
       "\n",
       ".xr-var-name:hover,\n",
       ".xr-var-dims:hover,\n",
       ".xr-var-dtype:hover,\n",
       ".xr-attrs dt:hover {\n",
       "  overflow: visible;\n",
       "  width: auto;\n",
       "  z-index: 1;\n",
       "}\n",
       "\n",
       ".xr-var-attrs,\n",
       ".xr-var-data {\n",
       "  display: none;\n",
       "  background-color: var(--xr-background-color) !important;\n",
       "  padding-bottom: 5px !important;\n",
       "}\n",
       "\n",
       ".xr-var-attrs-in:checked ~ .xr-var-attrs,\n",
       ".xr-var-data-in:checked ~ .xr-var-data {\n",
       "  display: block;\n",
       "}\n",
       "\n",
       ".xr-var-data > table {\n",
       "  float: right;\n",
       "}\n",
       "\n",
       ".xr-var-name span,\n",
       ".xr-var-data,\n",
       ".xr-attrs {\n",
       "  padding-left: 25px !important;\n",
       "}\n",
       "\n",
       ".xr-attrs,\n",
       ".xr-var-attrs,\n",
       ".xr-var-data {\n",
       "  grid-column: 1 / -1;\n",
       "}\n",
       "\n",
       "dl.xr-attrs {\n",
       "  padding: 0;\n",
       "  margin: 0;\n",
       "  display: grid;\n",
       "  grid-template-columns: 125px auto;\n",
       "}\n",
       "\n",
       ".xr-attrs dt, dd {\n",
       "  padding: 0;\n",
       "  margin: 0;\n",
       "  float: left;\n",
       "  padding-right: 10px;\n",
       "  width: auto;\n",
       "}\n",
       "\n",
       ".xr-attrs dt {\n",
       "  font-weight: normal;\n",
       "  grid-column: 1;\n",
       "}\n",
       "\n",
       ".xr-attrs dt:hover span {\n",
       "  display: inline-block;\n",
       "  background: var(--xr-background-color);\n",
       "  padding-right: 10px;\n",
       "}\n",
       "\n",
       ".xr-attrs dd {\n",
       "  grid-column: 2;\n",
       "  white-space: pre-wrap;\n",
       "  word-break: break-all;\n",
       "}\n",
       "\n",
       ".xr-icon-database,\n",
       ".xr-icon-file-text2 {\n",
       "  display: inline-block;\n",
       "  vertical-align: middle;\n",
       "  width: 1em;\n",
       "  height: 1.5em !important;\n",
       "  stroke-width: 0;\n",
       "  stroke: currentColor;\n",
       "  fill: currentColor;\n",
       "}\n",
       "</style><pre class='xr-text-repr-fallback'>&lt;xarray.Dataset&gt;\n",
       "Dimensions:      (latitude: 3501, longitude: 3501, time: 1)\n",
       "Coordinates:\n",
       "  * time         (time) datetime64[ns] 2017-12-22T14:54:24\n",
       "  * latitude     (latitude) float64 4.232 4.232 4.231 ... 3.283 3.283 3.282\n",
       "  * longitude    (longitude) float64 -70.88 -70.88 -70.87 ... -69.93 -69.93\n",
       "    spatial_ref  int32 4326\n",
       "Data variables:\n",
       "    blue         (time, latitude, longitude) int16 -9999 -9999 ... -9999 -9999\n",
       "Attributes:\n",
       "    crs:           EPSG:4326\n",
       "    grid_mapping:  spatial_ref</pre><div class='xr-wrap' hidden><div class='xr-header'><div class='xr-obj-type'>xarray.Dataset</div></div><ul class='xr-sections'><li class='xr-section-item'><input id='section-cc3cdd19-4703-4cb3-908c-b3d15cb6c515' class='xr-section-summary-in' type='checkbox' disabled ><label for='section-cc3cdd19-4703-4cb3-908c-b3d15cb6c515' class='xr-section-summary'  title='Expand/collapse section'>Dimensions:</label><div class='xr-section-inline-details'><ul class='xr-dim-list'><li><span class='xr-has-index'>latitude</span>: 3501</li><li><span class='xr-has-index'>longitude</span>: 3501</li><li><span class='xr-has-index'>time</span>: 1</li></ul></div><div class='xr-section-details'></div></li><li class='xr-section-item'><input id='section-cc98bb01-43cd-4c8e-aae3-c10b37a336e2' class='xr-section-summary-in' type='checkbox'  checked><label for='section-cc98bb01-43cd-4c8e-aae3-c10b37a336e2' class='xr-section-summary' >Coordinates: <span>(4)</span></label><div class='xr-section-inline-details'></div><div class='xr-section-details'><ul class='xr-var-list'><li class='xr-var-item'><div class='xr-var-name'><span class='xr-has-index'>time</span></div><div class='xr-var-dims'>(time)</div><div class='xr-var-dtype'>datetime64[ns]</div><div class='xr-var-preview xr-preview'>2017-12-22T14:54:24</div><input id='attrs-84d24b48-6501-41f6-a93b-57c7c41bf277' class='xr-var-attrs-in' type='checkbox' ><label for='attrs-84d24b48-6501-41f6-a93b-57c7c41bf277' title='Show/Hide attributes'><svg class='icon xr-icon-file-text2'><use xlink:href='#icon-file-text2'></use></svg></label><input id='data-5a23285b-44f7-47c2-9451-0541a0e1174e' class='xr-var-data-in' type='checkbox'><label for='data-5a23285b-44f7-47c2-9451-0541a0e1174e' title='Show/Hide data repr'><svg class='icon xr-icon-database'><use xlink:href='#icon-database'></use></svg></label><div class='xr-var-attrs'><dl class='xr-attrs'><dt><span>units :</span></dt><dd>seconds since 1970-01-01 00:00:00</dd></dl></div><div class='xr-var-data'><pre>array([&#x27;2017-12-22T14:54:24.000000000&#x27;], dtype=&#x27;datetime64[ns]&#x27;)</pre></div></li><li class='xr-var-item'><div class='xr-var-name'><span class='xr-has-index'>latitude</span></div><div class='xr-var-dims'>(latitude)</div><div class='xr-var-dtype'>float64</div><div class='xr-var-preview xr-preview'>4.232 4.232 4.231 ... 3.283 3.282</div><input id='attrs-67c28f13-2058-45b8-aa6d-72c1dadafb29' class='xr-var-attrs-in' type='checkbox' ><label for='attrs-67c28f13-2058-45b8-aa6d-72c1dadafb29' title='Show/Hide attributes'><svg class='icon xr-icon-file-text2'><use xlink:href='#icon-file-text2'></use></svg></label><input id='data-ffb0bc63-ce1d-41e4-89b6-3371da0519b5' class='xr-var-data-in' type='checkbox'><label for='data-ffb0bc63-ce1d-41e4-89b6-3371da0519b5' title='Show/Hide data repr'><svg class='icon xr-icon-database'><use xlink:href='#icon-database'></use></svg></label><div class='xr-var-attrs'><dl class='xr-attrs'><dt><span>units :</span></dt><dd>degrees_north</dd><dt><span>resolution :</span></dt><dd>-0.000271302</dd><dt><span>crs :</span></dt><dd>EPSG:4326</dd></dl></div><div class='xr-var-data'><pre>array([4.231904, 4.231633, 4.231362, ..., 3.28289 , 3.282619, 3.282347])</pre></div></li><li class='xr-var-item'><div class='xr-var-name'><span class='xr-has-index'>longitude</span></div><div class='xr-var-dims'>(longitude)</div><div class='xr-var-dtype'>float64</div><div class='xr-var-preview xr-preview'>-70.88 -70.88 ... -69.93 -69.93</div><input id='attrs-94cd821e-89c6-4330-9441-7e8a84efae53' class='xr-var-attrs-in' type='checkbox' ><label for='attrs-94cd821e-89c6-4330-9441-7e8a84efae53' title='Show/Hide attributes'><svg class='icon xr-icon-file-text2'><use xlink:href='#icon-file-text2'></use></svg></label><input id='data-5c672cc6-c8b7-4e9c-affd-f33e5558c87d' class='xr-var-data-in' type='checkbox'><label for='data-5c672cc6-c8b7-4e9c-affd-f33e5558c87d' title='Show/Hide data repr'><svg class='icon xr-icon-database'><use xlink:href='#icon-database'></use></svg></label><div class='xr-var-attrs'><dl class='xr-attrs'><dt><span>units :</span></dt><dd>degrees_east</dd><dt><span>resolution :</span></dt><dd>0.000269995</dd><dt><span>crs :</span></dt><dd>EPSG:4326</dd></dl></div><div class='xr-var-data'><pre>array([-70.875442, -70.875172, -70.874902, ..., -69.931   , -69.93073 ,\n",
       "       -69.93046 ])</pre></div></li><li class='xr-var-item'><div class='xr-var-name'><span>spatial_ref</span></div><div class='xr-var-dims'>()</div><div class='xr-var-dtype'>int32</div><div class='xr-var-preview xr-preview'>4326</div><input id='attrs-325cc366-2ec8-4fd6-b83d-581d339d9001' class='xr-var-attrs-in' type='checkbox' ><label for='attrs-325cc366-2ec8-4fd6-b83d-581d339d9001' title='Show/Hide attributes'><svg class='icon xr-icon-file-text2'><use xlink:href='#icon-file-text2'></use></svg></label><input id='data-e7ebe880-b228-4669-a99b-d87bb6bc37b2' class='xr-var-data-in' type='checkbox'><label for='data-e7ebe880-b228-4669-a99b-d87bb6bc37b2' title='Show/Hide data repr'><svg class='icon xr-icon-database'><use xlink:href='#icon-database'></use></svg></label><div class='xr-var-attrs'><dl class='xr-attrs'><dt><span>spatial_ref :</span></dt><dd>GEOGCS[&quot;WGS 84&quot;,DATUM[&quot;WGS_1984&quot;,SPHEROID[&quot;WGS 84&quot;,6378137,298.257223563,AUTHORITY[&quot;EPSG&quot;,&quot;7030&quot;]],AUTHORITY[&quot;EPSG&quot;,&quot;6326&quot;]],PRIMEM[&quot;Greenwich&quot;,0,AUTHORITY[&quot;EPSG&quot;,&quot;8901&quot;]],UNIT[&quot;degree&quot;,0.0174532925199433,AUTHORITY[&quot;EPSG&quot;,&quot;9122&quot;]],AUTHORITY[&quot;EPSG&quot;,&quot;4326&quot;]]</dd><dt><span>grid_mapping_name :</span></dt><dd>latitude_longitude</dd></dl></div><div class='xr-var-data'><pre>array(4326, dtype=int32)</pre></div></li></ul></div></li><li class='xr-section-item'><input id='section-2799749c-3403-4fdf-83dc-92414bd0c07c' class='xr-section-summary-in' type='checkbox'  checked><label for='section-2799749c-3403-4fdf-83dc-92414bd0c07c' class='xr-section-summary' >Data variables: <span>(1)</span></label><div class='xr-section-inline-details'></div><div class='xr-section-details'><ul class='xr-var-list'><li class='xr-var-item'><div class='xr-var-name'><span>blue</span></div><div class='xr-var-dims'>(time, latitude, longitude)</div><div class='xr-var-dtype'>int16</div><div class='xr-var-preview xr-preview'>-9999 -9999 -9999 ... -9999 -9999</div><input id='attrs-23b9a520-0d09-4d04-8eaa-ad3d6f833b8f' class='xr-var-attrs-in' type='checkbox' ><label for='attrs-23b9a520-0d09-4d04-8eaa-ad3d6f833b8f' title='Show/Hide attributes'><svg class='icon xr-icon-file-text2'><use xlink:href='#icon-file-text2'></use></svg></label><input id='data-74866fbc-8a50-4c06-b8b3-c6878a0ccf6f' class='xr-var-data-in' type='checkbox'><label for='data-74866fbc-8a50-4c06-b8b3-c6878a0ccf6f' title='Show/Hide data repr'><svg class='icon xr-icon-database'><use xlink:href='#icon-database'></use></svg></label><div class='xr-var-attrs'><dl class='xr-attrs'><dt><span>units :</span></dt><dd>reflectance</dd><dt><span>nodata :</span></dt><dd>-9999</dd><dt><span>crs :</span></dt><dd>EPSG:4326</dd><dt><span>grid_mapping :</span></dt><dd>spatial_ref</dd></dl></div><div class='xr-var-data'><pre>array([[[-9999, -9999, -9999, ...,   309,   302,   297],\n",
       "        [-9999, -9999, -9999, ...,   305,   300,   295],\n",
       "        [-9999, -9999, -9999, ...,   307,   303,   300],\n",
       "        ...,\n",
       "        [-9999, -9999, -9999, ..., -9999, -9999, -9999],\n",
       "        [-9999, -9999, -9999, ..., -9999, -9999, -9999],\n",
       "        [-9999, -9999, -9999, ..., -9999, -9999, -9999]]], dtype=int16)</pre></div></li></ul></div></li><li class='xr-section-item'><input id='section-722b7f7f-10a1-49d7-a122-5f3e95b0f923' class='xr-section-summary-in' type='checkbox'  checked><label for='section-722b7f7f-10a1-49d7-a122-5f3e95b0f923' class='xr-section-summary' >Attributes: <span>(2)</span></label><div class='xr-section-inline-details'></div><div class='xr-section-details'><dl class='xr-attrs'><dt><span>crs :</span></dt><dd>EPSG:4326</dd><dt><span>grid_mapping :</span></dt><dd>spatial_ref</dd></dl></div></li></ul></div></div>"
      ],
      "text/plain": [
       "<xarray.Dataset>\n",
       "Dimensions:      (latitude: 3501, longitude: 3501, time: 1)\n",
       "Coordinates:\n",
       "  * time         (time) datetime64[ns] 2017-12-22T14:54:24\n",
       "  * latitude     (latitude) float64 4.232 4.232 4.231 ... 3.283 3.283 3.282\n",
       "  * longitude    (longitude) float64 -70.88 -70.88 -70.87 ... -69.93 -69.93\n",
       "    spatial_ref  int32 4326\n",
       "Data variables:\n",
       "    blue         (time, latitude, longitude) int16 -9999 -9999 ... -9999 -9999\n",
       "Attributes:\n",
       "    crs:           EPSG:4326\n",
       "    grid_mapping:  spatial_ref"
      ]
     },
     "execution_count": 13,
     "metadata": {},
     "output_type": "execute_result"
    }
   ],
   "source": [
    "%%time\n",
    "\n",
    "import datacube\n",
    "\n",
    "dc = datacube.Datacube(app=\"Hello World\")\n",
    "\n",
    "xarr = dc.load(\n",
    "    # Satellite \n",
    "    product=\"ls8_collections_sr_scene\",\n",
    "    # Area to be requested \n",
    "    # latitude=(3.282245682956571,5.387626094377365),\n",
    "    latitude=(3.282245682956571, 4.23180268296),\n",
    "    # longitude=(-70.87547257296065, -68.82294825857863),\n",
    "    longitude=(-70.87547257296065, -69.930490073),\n",
    "    # The query returns the images that were obtained \n",
    "    # in the time range specified\n",
    "    # Time format (YYYY-MM-DD)\n",
    "    # time=(\"2017-12-21\",\"2017-12-23\"),\n",
    "    # Image spectral bands\n",
    "    measurements=['blue'],\n",
    "    output_crs='EPSG:4326',\n",
    "    resolution=(-0.000271302,0.000269995)\n",
    ")\n",
    "\n",
    "xarr"
   ]
  },
  {
   "cell_type": "markdown",
   "metadata": {},
   "source": [
    "Plot the blue band of the dataset."
   ]
  },
  {
   "cell_type": "code",
   "execution_count": 12,
   "metadata": {},
   "outputs": [
    {
     "data": {
      "text/plain": [
       "<matplotlib.collections.QuadMesh at 0x7fad8083e908>"
      ]
     },
     "execution_count": 12,
     "metadata": {},
     "output_type": "execute_result"
    },
    {
     "data": {
      "image/png": "[encoded data removed]",
      "text/plain": [
       "<Figure size 432x288 with 2 Axes>"
      ]
     },
     "metadata": {
      "needs_background": "light"
     },
     "output_type": "display_data"
    }
   ],
   "source": [
    "xarr.blue.plot()"
   ]
  },
  {
   "cell_type": "markdown",
   "metadata": {},
   "source": [
    "### References\n",
    "\n",
    "1. [Product](https://datacube-core.readthedocs.io/en/latest/architecture/data_model.html#product)\n",
    "2. [Indexing Data](https://datacube-core.readthedocs.io/en/latest/ops/indexing.html#indexing-data)"
   ]
  }
 ],
 "metadata": {
  "kernelspec": {
   "display_name": "Python 3",
   "language": "python",
   "name": "python3"
  },
  "language_info": {
   "codemirror_mode": {
    "name": "ipython",
    "version": 3
   },
   "file_extension": ".py",
   "mimetype": "text/x-python",
   "name": "python",
   "nbconvert_exporter": "python",
   "pygments_lexer": "ipython3",
   "version": "3.6.9"
  }
 },
 "nbformat": 4,
 "nbformat_minor": 4
}
